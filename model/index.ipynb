{
 "cells": [
  {
   "cell_type": "code",
   "execution_count": 123,
   "metadata": {},
   "outputs": [],
   "source": [
    "import torch\n",
    "import torch.nn as nn\n",
    "import torch.nn.functional as F\n",
    "import torchvision\n",
    "import torchvision.transforms as transforms\n",
    "import random\n",
    "import numpy as np\n",
    "import os\n",
    "from PIL import Image\n",
    "from matplotlib import pyplot as plt"
   ]
  },
  {
   "cell_type": "code",
   "execution_count": 124,
   "metadata": {},
   "outputs": [],
   "source": [
    "train_dir = \"../train/\"\n",
    "\n",
    "class GameDataset(torch.utils.data.Dataset):\n",
    "  def __init__(self, root, transforms=None):\n",
    "    self.root = root\n",
    "    self.transform = transforms\n",
    "\n",
    "    self.im_path = os.listdir(self.root)\n",
    "\n",
    "  def __len__(self):\n",
    "    return len(self.im_path)\n",
    "\n",
    "  def __getitem__(self, index):\n",
    "    image_path = os.path.join(self.root, self.im_path[index])\n",
    "    label = image_path.split('-')[2]\n",
    "\n",
    "    # Load image\n",
    "    img = Image.open(image_path)\n",
    "    img = img.convert('RGB')\n",
    "\n",
    "    if self.transform:\n",
    "      img = self.transform(img)\n",
    "    else:\n",
    "      # Convert to tensor\n",
    "      img = torch.from_numpy(np.array(img))\n",
    "    \n",
    "    rating_norm = float(label.split('.')[0]) / 100.0\n",
    "\n",
    "    return (img, torch.tensor(rating_norm, dtype=torch.float32))"
   ]
  },
  {
   "cell_type": "code",
   "execution_count": 125,
   "metadata": {},
   "outputs": [
    {
     "data": {
      "image/png": "[encoded data removed]",
      "text/plain": [
       "<Figure size 640x480 with 1 Axes>"
      ]
     },
     "metadata": {},
     "output_type": "display_data"
    }
   ],
   "source": [
    "from torch.utils.data import DataLoader\n",
    "\n",
    "train_transforms = transforms.Compose(\n",
    "  [\n",
    "    transforms.Resize(size=(92, 92)),\n",
    "    transforms.ToTensor(),\n",
    "  ]\n",
    ")\n",
    "\n",
    "dataset = GameDataset(root=train_dir, transforms=train_transforms)\n",
    "\n",
    "# Split dataset\n",
    "train_len = int(len(dataset) * 0.8)\n",
    "test_len = len(dataset) - train_len\n",
    "train_data_custom, test_data_custom = torch.utils.data.random_split(dataset, [train_len, test_len])\n",
    "\n",
    "# Show image\n",
    "img, label = train_data_custom[0]\n",
    "img_permute = img.permute(1, 2, 0)\n",
    "\n",
    "plt.imshow(img_permute)\n",
    "plt.show()"
   ]
  },
  {
   "cell_type": "code",
   "execution_count": 126,
   "metadata": {},
   "outputs": [],
   "source": [
    "train_dataloader = torch.utils.data.DataLoader(train_data_custom, batch_size=32, shuffle=True, num_workers=0)\n",
    "test_dataloader = torch.utils.data.DataLoader(test_data_custom, batch_size=32, shuffle=False, num_workers=0)"
   ]
  },
  {
   "cell_type": "code",
   "execution_count": 127,
   "metadata": {},
   "outputs": [],
   "source": [
    "from torchvision import models\n",
    "\n",
    "class ReviewPredictionModel(nn.Module):\n",
    "    def __init__(self):\n",
    "        super(ReviewPredictionModel, self).__init__()\n",
    "        self.model = models.resnet18(pretrained=True)\n",
    "        self.model.fc = nn.Linear(self.model.fc.in_features, 1)  # Output a single value\n",
    "    \n",
    "    def forward(self, x):\n",
    "        return self.model(x)"
   ]
  },
  {
   "cell_type": "code",
   "execution_count": 128,
   "metadata": {},
   "outputs": [
    {
     "name": "stdout",
     "output_type": "stream",
     "text": [
      "Epoch 1/20, Train Loss: 0.3030501066381673\n",
      "Validation Loss: 0.1419739435826029\n",
      "Epoch 2/20, Train Loss: 0.13978486247809538\n",
      "Validation Loss: 0.08549381615150542\n",
      "Epoch 3/20, Train Loss: 0.0701233133987849\n",
      "Validation Loss: 0.061409632719698404\n",
      "Epoch 4/20, Train Loss: 0.036153251114469695\n",
      "Validation Loss: 0.035475709342530796\n",
      "Epoch 5/20, Train Loss: 0.018713261505745978\n",
      "Validation Loss: 0.02969825090396972\n",
      "Epoch 6/20, Train Loss: 0.011776115279644728\n",
      "Validation Loss: 0.028311791075837044\n",
      "Epoch 7/20, Train Loss: 0.009786185533571315\n",
      "Validation Loss: 0.025620688595587297\n",
      "Epoch 8/20, Train Loss: 0.007664543405422066\n",
      "Validation Loss: 0.02324244220341955\n",
      "Epoch 9/20, Train Loss: 0.0065116820806435435\n",
      "Validation Loss: 0.02430558523961476\n",
      "Epoch 10/20, Train Loss: 0.005648113301876618\n",
      "Validation Loss: 0.021055875656505425\n",
      "Epoch 11/20, Train Loss: 0.005214330299858408\n",
      "Validation Loss: 0.021793065903087456\n",
      "Epoch 12/20, Train Loss: 0.005000072037688939\n",
      "Validation Loss: 0.021421139571993125\n",
      "Epoch 13/20, Train Loss: 0.004793248808359256\n",
      "Validation Loss: 0.02036058476993016\n",
      "Epoch 14/20, Train Loss: 0.0049677814822643995\n",
      "Validation Loss: 0.01975433084936369\n",
      "Epoch 15/20, Train Loss: 0.004452830818706158\n",
      "Validation Loss: 0.020643965518545537\n",
      "Epoch 16/20, Train Loss: 0.004098277909299695\n",
      "Validation Loss: 0.0189631377302465\n",
      "Epoch 17/20, Train Loss: 0.0038273290054962397\n",
      "Validation Loss: 0.019044160266362485\n",
      "Epoch 18/20, Train Loss: 0.0038163903890267373\n",
      "Validation Loss: 0.019625832415407614\n",
      "Epoch 19/20, Train Loss: 0.0032197753576202743\n",
      "Validation Loss: 0.018672017158851736\n",
      "Epoch 20/20, Train Loss: 0.003311408195554851\n",
      "Validation Loss: 0.018595890230720953\n"
     ]
    }
   ],
   "source": [
    "import torch.optim as optim\n",
    "\n",
    "device = torch.device('cuda' if torch.cuda.is_available() else 'mps' if torch.backends.mps.is_available() else 'cpu')\n",
    "\n",
    "model = ReviewPredictionModel().to(device)\n",
    "criterion = nn.MSELoss()\n",
    "optimizer = optim.Adam(model.parameters(), lr=1e-4)\n",
    "\n",
    "num_epochs = 20\n",
    "for epoch in range(num_epochs):\n",
    "    model.train()\n",
    "    train_loss = 0.0\n",
    "    for images, ratings in train_dataloader:\n",
    "        images, ratings = images.to(device), ratings.to(device)\n",
    "        \n",
    "        optimizer.zero_grad()\n",
    "        outputs = model(images).squeeze()  # Remove unnecessary dimensions\n",
    "        loss = criterion(outputs, ratings)\n",
    "        loss.backward()\n",
    "        optimizer.step()\n",
    "        \n",
    "        train_loss += loss.item()\n",
    "    \n",
    "    print(f\"Epoch {epoch+1}/{num_epochs}, Train Loss: {train_loss / len(train_dataloader)}\")\n",
    "\n",
    "    # Validation step\n",
    "    model.eval()\n",
    "    val_loss = 0.0\n",
    "    with torch.no_grad():\n",
    "        for images, ratings in test_dataloader:\n",
    "            images, ratings = images.to(device), ratings.to(device)\n",
    "            outputs = model(images).squeeze()\n",
    "            loss = criterion(outputs, ratings)\n",
    "            val_loss += loss.item()\n",
    "    \n",
    "    print(f\"Validation Loss: {val_loss / len(test_dataloader)}\")\n",
    "\n",
    "# Save the model\n",
    "torch.save(model.state_dict(), 'model.pt')"
   ]
  },
  {
   "cell_type": "code",
   "execution_count": 134,
   "metadata": {},
   "outputs": [
    {
     "name": "stderr",
     "output_type": "stream",
     "text": [
      "/Users/spikehd/.venvs/default/lib/python3.12/site-packages/torchvision/models/_utils.py:208: UserWarning: The parameter 'pretrained' is deprecated since 0.13 and may be removed in the future, please use 'weights' instead.\n",
      "  warnings.warn(\n",
      "/Users/spikehd/.venvs/default/lib/python3.12/site-packages/torchvision/models/_utils.py:223: UserWarning: Arguments other than a weight enum or `None` for 'weights' are deprecated since 0.13 and may be removed in the future. The current behavior is equivalent to passing `weights=ResNet18_Weights.IMAGENET1K_V1`. You can also use `weights=ResNet18_Weights.DEFAULT` to get the most up-to-date weights.\n",
      "  warnings.warn(msg)\n",
      "/var/folders/jm/bynsxh5s3hd1z2qs_r0r9w2m0000gn/T/ipykernel_51209/430517877.py:12: FutureWarning: You are using `torch.load` with `weights_only=False` (the current default value), which uses the default pickle module implicitly. It is possible to construct malicious pickle data which will execute arbitrary code during unpickling (See https://github.com/pytorch/pytorch/blob/main/SECURITY.md#untrusted-models for more details). In a future release, the default value for `weights_only` will be flipped to `True`. This limits the functions that could be executed during unpickling. Arbitrary objects will no longer be allowed to be loaded via this mode unless they are explicitly allowlisted by the user via `torch.serialization.add_safe_globals`. We recommend you start setting `weights_only=True` for any use case where you don't have full control of the loaded file. Please open an issue on GitHub for any issues related to this experimental feature.\n",
      "  model.load_state_dict(torch.load(\"model.pt\", map_location=device))\n"
     ]
    },
    {
     "name": "stdout",
     "output_type": "stream",
     "text": [
      "Predicted Rating: 57.21%\n"
     ]
    }
   ],
   "source": [
    "\n",
    "# Path to your test image\n",
    "# test_image_path = \"../train/2089350-1-94.jpg\"\n",
    "# test_image_path = \"../train/2357570-2-40.jpg\"\n",
    "test_image_path = \"../train/2328760-2-63.jpg\"\n",
    "\n",
    "# Transform for the test image (same as training)\n",
    "transform = train_transforms\n",
    "\n",
    "# Load the trained model\n",
    "device = torch.device('cuda' if torch.cuda.is_available() else 'mps' if torch.backends.mps.is_available() else 'cpu')\n",
    "model = ReviewPredictionModel()  # Replace with your model class\n",
    "model.load_state_dict(torch.load(\"model.pt\", map_location=device))\n",
    "model.to(device)\n",
    "model.eval()\n",
    "\n",
    "# Load and preprocess the test image\n",
    "image = Image.open(test_image_path).convert('RGB')\n",
    "image = transform(image).unsqueeze(0)  # Add batch dimension\n",
    "\n",
    "# Perform inference\n",
    "with torch.no_grad():\n",
    "    image = image.to(device)\n",
    "    predicted_rating = model(image).item()  # Get the predicted rating as a scalar\n",
    "\n",
    "# Convert the normalized rating back to percentage\n",
    "predicted_percentage = predicted_rating * 100\n",
    "print(f\"Predicted Rating: {predicted_percentage:.2f}%\")\n"
   ]
  }
 ],
 "metadata": {
  "kernelspec": {
   "display_name": "default",
   "language": "python",
   "name": "python3"
  },
  "language_info": {
   "codemirror_mode": {
    "name": "ipython",
    "version": 3
   },
   "file_extension": ".py",
   "mimetype": "text/x-python",
   "name": "python",
   "nbconvert_exporter": "python",
   "pygments_lexer": "ipython3",
   "version": "3.12.6"
  }
 },
 "nbformat": 4,
 "nbformat_minor": 2
}
